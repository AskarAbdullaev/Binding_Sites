{
 "cells": [
  {
   "cell_type": "code",
   "execution_count": 1,
   "metadata": {},
   "outputs": [],
   "source": [
    "import os\n",
    "\n",
    "import torch\n",
    "import pandas as pd\n",
    "\n",
    "from sample_and_train_utilities import (precompute_voxel_grids,\n",
    "                                        SiteDataSet,\n",
    "                                        FlexibleCNN3D,\n",
    "                                        hyperparameter_search,\n",
    "                                        analyse_hyperparameters)"
   ]
  },
  {
   "cell_type": "markdown",
   "metadata": {},
   "source": [
    "This notebook follows the load_and_process.ipynb notebook.\n",
    "\n",
    "By now, the file structure should look like:\n",
    "\n",
    "```text\n",
    "./\n",
    "|\n",
    "|- all_scpdb_entries.txt\n",
    "|- excluded_scpdb_entries.txt\n",
    "|- Data\n",
    "    |\n",
    "    |- scPDB\n",
    "        |- 1a2b_1\n",
    "            |- protein.mol2\n",
    "            |- site.mol2\n",
    "            |- ...(other possible files from scPDB)\n",
    "        |- ...(all scPDB entries)\n",
    "    |\n",
    "    |- SCOPe\n",
    "        |- 2_08.csv\n",
    "        |- ...(possibly other SCOPe versions)\n",
    "    |\n",
    "    |- Pages\n",
    "        |- 1a2b_1.txt\n",
    "        |- ...(all the source codes of scPDB web pages)\n",
    "    |\n",
    "    |- Folds\n",
    "        |- 1.csv\n",
    "        |- ...(other folds)\n",
    "        |- test.csv\n",
    "    |\n",
    "    |- Atoms\n",
    "        |- 1a2b_1.csv\n",
    "        |- ...(csvs with atom coords and props)\n",
    "```\n",
    "\n",
    "By the end of this notebook, the file structure will look like:\n",
    "\n",
    "```text\n",
    "./\n",
    "|\n",
    "|- all_scpdb_entries.txt\n",
    "|- excluded_scpdb_entries.txt\n",
    "|- Data\n",
    "    |\n",
    "    |- scPDB\n",
    "        |- 1a2b_1\n",
    "            |- protein.mol2\n",
    "            |- site.mol2\n",
    "            |- ...(other possible files from scPDB)\n",
    "        |- ...(all scPDB entries)\n",
    "    |\n",
    "    |- SCOPe\n",
    "        |- 2_08.csv\n",
    "        |- ...(possibly other SCOPe versions)\n",
    "    |\n",
    "    |- Pages\n",
    "        |- 1a2b_1.txt\n",
    "        |- ...(all the source codes of scPDB web pages)\n",
    "    |\n",
    "    |- Folds\n",
    "        |- 1.csv\n",
    "        |- ...(other folds)\n",
    "        |- test.csv\n",
    "    |\n",
    "    |- Atoms\n",
    "        |- 1a2b_1.csv\n",
    "        |- ...(csvs with atom coords and props)\n",
    "    |\n",
    "    |- Voxels\n",
    "        |- 1\n",
    "            |- 1a2b_1\n",
    "                |- atoms_grid.npy\n",
    "                |- occupancy.npy\n",
    "                |- site_center.npy\n",
    "            |- ... (other voxelized entries with voxel size 1)\n",
    "        |\n",
    "        |- 2\n",
    "            |- 1a2b_1\n",
    "                |- atoms_grid.npy\n",
    "                |- occupancy.npy\n",
    "                |- site_center.npy\n",
    "            |- ... (other voxelized entries with voxel size 2)\n",
    "    |\n",
    "    |- CV\n",
    "        |- pilot (folder for hyperparameter search)\n",
    "            |- bs_128_do_0_cs_1\n",
    "                |- train_loss.txt\n",
    "                |- test_loss.txt\n",
    "                |- true_labels.npy\n",
    "                |- predictions.npy\n",
    "            |- ... (other hyperparameter combinations)\n",
    "```"
   ]
  },
  {
   "cell_type": "code",
   "execution_count": 2,
   "metadata": {},
   "outputs": [],
   "source": [
    "# Default dirs and paths\n",
    "\n",
    "SCPDB_DIR = 'Data/scPDB'\n",
    "SCOPE_DIR = 'Data/SCOPe'\n",
    "SCOPE_VERSION = '2.08'\n",
    "PAGES_DIR = 'Data/Pages'\n",
    "FOLDS_DIR = 'Data/Folds'\n",
    "ATOMS_DIR = 'Data/Atoms'\n",
    "VOXELS_DIR = 'Data/Voxels'\n",
    "MAIN_CSV = 'Data/database.csv'\n",
    "CV_LOGS = 'Data/CV'  # folder to store Cross-Validation logs\n",
    "PILOT_DIR = 'Data/CV/pilot'  # folder to store hyperparameters serach logs"
   ]
  },
  {
   "cell_type": "markdown",
   "metadata": {},
   "source": [
    "# Voxelization\n",
    "\n",
    "Voxelization is computationally heavy, so I will only apply it to the chosen entries per fold, not for all 16000.\n",
    "\n",
    "    IMPORTANT: the process may take a couple of hours and aroun 15 Gb of files will be generated"
   ]
  },
  {
   "cell_type": "code",
   "execution_count": 3,
   "metadata": {},
   "outputs": [
    {
     "name": "stdout",
     "output_type": "stream",
     "text": [
      "\n",
      "Fold: 0.csv\n",
      "\n",
      "Voxelization\n",
      "Number of entries: 352, voxel_size: 1\n",
      "Expected size of generated files: 1.0 Gb\n"
     ]
    },
    {
     "name": "stderr",
     "output_type": "stream",
     "text": [
      "100%|██████████| 352/352 [00:00<00:00, 65125.50it/s]"
     ]
    },
    {
     "name": "stdout",
     "output_type": "stream",
     "text": [
      "True size of generated files: 0 b\n",
      "Entries skipped as existing: 352\n"
     ]
    },
    {
     "name": "stderr",
     "output_type": "stream",
     "text": [
      "\n"
     ]
    },
    {
     "name": "stdout",
     "output_type": "stream",
     "text": [
      "Voxelization\n",
      "Number of entries: 352, voxel_size: 2\n",
      "Expected size of generated files: 132.0 Mb\n"
     ]
    },
    {
     "name": "stderr",
     "output_type": "stream",
     "text": [
      "100%|██████████| 352/352 [00:00<00:00, 71254.59it/s]\n"
     ]
    },
    {
     "name": "stdout",
     "output_type": "stream",
     "text": [
      "True size of generated files: 0 b\n",
      "Entries skipped as existing: 352\n",
      "\n",
      "Fold: 1.csv\n",
      "\n",
      "Voxelization\n",
      "Number of entries: 352, voxel_size: 1\n",
      "Expected size of generated files: 1.0 Gb\n"
     ]
    },
    {
     "name": "stderr",
     "output_type": "stream",
     "text": [
      "100%|██████████| 352/352 [00:00<00:00, 72700.17it/s]"
     ]
    },
    {
     "name": "stdout",
     "output_type": "stream",
     "text": [
      "True size of generated files: 0 b\n",
      "Entries skipped as existing: 352\n"
     ]
    },
    {
     "name": "stderr",
     "output_type": "stream",
     "text": [
      "\n"
     ]
    },
    {
     "name": "stdout",
     "output_type": "stream",
     "text": [
      "Voxelization\n",
      "Number of entries: 352, voxel_size: 2\n",
      "Expected size of generated files: 132.0 Mb\n"
     ]
    },
    {
     "name": "stderr",
     "output_type": "stream",
     "text": [
      "100%|██████████| 352/352 [00:00<00:00, 75461.03it/s]"
     ]
    },
    {
     "name": "stdout",
     "output_type": "stream",
     "text": [
      "True size of generated files: 0 b\n",
      "Entries skipped as existing: 352\n",
      "\n",
      "Fold: 2.csv\n",
      "\n"
     ]
    },
    {
     "name": "stderr",
     "output_type": "stream",
     "text": [
      "\n"
     ]
    },
    {
     "name": "stdout",
     "output_type": "stream",
     "text": [
      "Voxelization\n",
      "Number of entries: 352, voxel_size: 1\n",
      "Expected size of generated files: 1.0 Gb\n"
     ]
    },
    {
     "name": "stderr",
     "output_type": "stream",
     "text": [
      "100%|██████████| 352/352 [00:00<00:00, 80313.06it/s]"
     ]
    },
    {
     "name": "stdout",
     "output_type": "stream",
     "text": [
      "True size of generated files: 0 b\n",
      "Entries skipped as existing: 352\n"
     ]
    },
    {
     "name": "stderr",
     "output_type": "stream",
     "text": [
      "\n"
     ]
    },
    {
     "name": "stdout",
     "output_type": "stream",
     "text": [
      "Voxelization\n",
      "Number of entries: 352, voxel_size: 2\n",
      "Expected size of generated files: 132.0 Mb\n"
     ]
    },
    {
     "name": "stderr",
     "output_type": "stream",
     "text": [
      "100%|██████████| 352/352 [00:00<00:00, 77590.66it/s]"
     ]
    },
    {
     "name": "stdout",
     "output_type": "stream",
     "text": [
      "True size of generated files: 0 b\n",
      "Entries skipped as existing: 352\n",
      "\n",
      "Fold: 3.csv\n",
      "\n"
     ]
    },
    {
     "name": "stderr",
     "output_type": "stream",
     "text": [
      "\n"
     ]
    },
    {
     "name": "stdout",
     "output_type": "stream",
     "text": [
      "Voxelization\n",
      "Number of entries: 352, voxel_size: 1\n",
      "Expected size of generated files: 1.0 Gb\n"
     ]
    },
    {
     "name": "stderr",
     "output_type": "stream",
     "text": [
      "100%|██████████| 352/352 [00:00<00:00, 81803.80it/s]"
     ]
    },
    {
     "name": "stdout",
     "output_type": "stream",
     "text": [
      "True size of generated files: 0 b\n",
      "Entries skipped as existing: 352\n"
     ]
    },
    {
     "name": "stderr",
     "output_type": "stream",
     "text": [
      "\n"
     ]
    },
    {
     "name": "stdout",
     "output_type": "stream",
     "text": [
      "Voxelization\n",
      "Number of entries: 352, voxel_size: 2\n",
      "Expected size of generated files: 132.0 Mb\n"
     ]
    },
    {
     "name": "stderr",
     "output_type": "stream",
     "text": [
      "100%|██████████| 352/352 [00:00<00:00, 81294.81it/s]"
     ]
    },
    {
     "name": "stdout",
     "output_type": "stream",
     "text": [
      "True size of generated files: 0 b\n",
      "Entries skipped as existing: 352\n",
      "\n",
      "Fold: 4.csv\n",
      "\n"
     ]
    },
    {
     "name": "stderr",
     "output_type": "stream",
     "text": [
      "\n"
     ]
    },
    {
     "name": "stdout",
     "output_type": "stream",
     "text": [
      "Voxelization\n",
      "Number of entries: 352, voxel_size: 1\n",
      "Expected size of generated files: 1.0 Gb\n"
     ]
    },
    {
     "name": "stderr",
     "output_type": "stream",
     "text": [
      "100%|██████████| 352/352 [00:00<00:00, 88158.78it/s]"
     ]
    },
    {
     "name": "stdout",
     "output_type": "stream",
     "text": [
      "True size of generated files: 0 b\n",
      "Entries skipped as existing: 352\n"
     ]
    },
    {
     "name": "stderr",
     "output_type": "stream",
     "text": [
      "\n"
     ]
    },
    {
     "name": "stdout",
     "output_type": "stream",
     "text": [
      "Voxelization\n",
      "Number of entries: 352, voxel_size: 2\n",
      "Expected size of generated files: 132.0 Mb\n"
     ]
    },
    {
     "name": "stderr",
     "output_type": "stream",
     "text": [
      "100%|██████████| 352/352 [00:00<00:00, 80933.83it/s]"
     ]
    },
    {
     "name": "stdout",
     "output_type": "stream",
     "text": [
      "True size of generated files: 0 b\n",
      "Entries skipped as existing: 352\n",
      "\n",
      "Fold: 5.csv\n",
      "\n"
     ]
    },
    {
     "name": "stderr",
     "output_type": "stream",
     "text": [
      "\n"
     ]
    },
    {
     "name": "stdout",
     "output_type": "stream",
     "text": [
      "Voxelization\n",
      "Number of entries: 352, voxel_size: 1\n",
      "Expected size of generated files: 1.0 Gb\n"
     ]
    },
    {
     "name": "stderr",
     "output_type": "stream",
     "text": [
      "100%|██████████| 352/352 [00:00<00:00, 89095.11it/s]"
     ]
    },
    {
     "name": "stdout",
     "output_type": "stream",
     "text": [
      "True size of generated files: 0 b\n",
      "Entries skipped as existing: 352\n"
     ]
    },
    {
     "name": "stderr",
     "output_type": "stream",
     "text": [
      "\n"
     ]
    },
    {
     "name": "stdout",
     "output_type": "stream",
     "text": [
      "Voxelization\n",
      "Number of entries: 352, voxel_size: 2\n",
      "Expected size of generated files: 132.0 Mb\n"
     ]
    },
    {
     "name": "stderr",
     "output_type": "stream",
     "text": [
      "100%|██████████| 352/352 [00:00<00:00, 77314.36it/s]"
     ]
    },
    {
     "name": "stdout",
     "output_type": "stream",
     "text": [
      "True size of generated files: 0 b\n",
      "Entries skipped as existing: 352\n",
      "\n",
      "Fold: 6.csv\n",
      "\n"
     ]
    },
    {
     "name": "stderr",
     "output_type": "stream",
     "text": [
      "\n"
     ]
    },
    {
     "name": "stdout",
     "output_type": "stream",
     "text": [
      "Voxelization\n",
      "Number of entries: 352, voxel_size: 1\n",
      "Expected size of generated files: 1.0 Gb\n"
     ]
    },
    {
     "name": "stderr",
     "output_type": "stream",
     "text": [
      "100%|██████████| 352/352 [00:00<00:00, 79474.35it/s]"
     ]
    },
    {
     "name": "stdout",
     "output_type": "stream",
     "text": [
      "True size of generated files: 0 b\n",
      "Entries skipped as existing: 352\n"
     ]
    },
    {
     "name": "stderr",
     "output_type": "stream",
     "text": [
      "\n"
     ]
    },
    {
     "name": "stdout",
     "output_type": "stream",
     "text": [
      "Voxelization\n",
      "Number of entries: 352, voxel_size: 2\n",
      "Expected size of generated files: 132.0 Mb\n"
     ]
    },
    {
     "name": "stderr",
     "output_type": "stream",
     "text": [
      "100%|██████████| 352/352 [00:00<00:00, 90810.37it/s]"
     ]
    },
    {
     "name": "stdout",
     "output_type": "stream",
     "text": [
      "True size of generated files: 0 b\n",
      "Entries skipped as existing: 352\n",
      "\n",
      "Fold: 7.csv\n",
      "\n"
     ]
    },
    {
     "name": "stderr",
     "output_type": "stream",
     "text": [
      "\n"
     ]
    },
    {
     "name": "stdout",
     "output_type": "stream",
     "text": [
      "Voxelization\n",
      "Number of entries: 351, voxel_size: 1\n",
      "Expected size of generated files: 1.0 Gb\n"
     ]
    },
    {
     "name": "stderr",
     "output_type": "stream",
     "text": [
      "100%|██████████| 351/351 [00:00<00:00, 82411.59it/s]"
     ]
    },
    {
     "name": "stdout",
     "output_type": "stream",
     "text": [
      "True size of generated files: 0 b\n",
      "Entries skipped as existing: 351\n"
     ]
    },
    {
     "name": "stderr",
     "output_type": "stream",
     "text": [
      "\n"
     ]
    },
    {
     "name": "stdout",
     "output_type": "stream",
     "text": [
      "Voxelization\n",
      "Number of entries: 351, voxel_size: 2\n",
      "Expected size of generated files: 132.0 Mb\n"
     ]
    },
    {
     "name": "stderr",
     "output_type": "stream",
     "text": [
      "100%|██████████| 351/351 [00:00<00:00, 87381.33it/s]"
     ]
    },
    {
     "name": "stdout",
     "output_type": "stream",
     "text": [
      "True size of generated files: 0 b\n",
      "Entries skipped as existing: 351\n",
      "\n",
      "Fold: 8.csv\n",
      "\n"
     ]
    },
    {
     "name": "stderr",
     "output_type": "stream",
     "text": [
      "\n"
     ]
    },
    {
     "name": "stdout",
     "output_type": "stream",
     "text": [
      "Voxelization\n",
      "Number of entries: 351, voxel_size: 1\n",
      "Expected size of generated files: 1.0 Gb\n"
     ]
    },
    {
     "name": "stderr",
     "output_type": "stream",
     "text": [
      "100%|██████████| 351/351 [00:00<00:00, 82689.32it/s]"
     ]
    },
    {
     "name": "stdout",
     "output_type": "stream",
     "text": [
      "True size of generated files: 0 b\n",
      "Entries skipped as existing: 351\n"
     ]
    },
    {
     "name": "stderr",
     "output_type": "stream",
     "text": [
      "\n"
     ]
    },
    {
     "name": "stdout",
     "output_type": "stream",
     "text": [
      "Voxelization\n",
      "Number of entries: 351, voxel_size: 2\n",
      "Expected size of generated files: 132.0 Mb\n"
     ]
    },
    {
     "name": "stderr",
     "output_type": "stream",
     "text": [
      "100%|██████████| 351/351 [00:00<00:00, 87955.59it/s]"
     ]
    },
    {
     "name": "stdout",
     "output_type": "stream",
     "text": [
      "True size of generated files: 0 b\n",
      "Entries skipped as existing: 351\n",
      "\n",
      "Fold: 9.csv\n",
      "\n"
     ]
    },
    {
     "name": "stderr",
     "output_type": "stream",
     "text": [
      "\n"
     ]
    },
    {
     "name": "stdout",
     "output_type": "stream",
     "text": [
      "Voxelization\n",
      "Number of entries: 351, voxel_size: 1\n",
      "Expected size of generated files: 1.0 Gb\n"
     ]
    },
    {
     "name": "stderr",
     "output_type": "stream",
     "text": [
      "100%|██████████| 351/351 [00:00<00:00, 73691.10it/s]"
     ]
    },
    {
     "name": "stdout",
     "output_type": "stream",
     "text": [
      "True size of generated files: 0 b\n",
      "Entries skipped as existing: 351\n"
     ]
    },
    {
     "name": "stderr",
     "output_type": "stream",
     "text": [
      "\n"
     ]
    },
    {
     "name": "stdout",
     "output_type": "stream",
     "text": [
      "Voxelization\n",
      "Number of entries: 351, voxel_size: 2\n",
      "Expected size of generated files: 132.0 Mb\n"
     ]
    },
    {
     "name": "stderr",
     "output_type": "stream",
     "text": [
      "100%|██████████| 351/351 [00:00<00:00, 69192.12it/s]"
     ]
    },
    {
     "name": "stdout",
     "output_type": "stream",
     "text": [
      "True size of generated files: 0 b\n",
      "Entries skipped as existing: 351\n",
      "\n",
      "Fold: test.csv\n",
      "\n"
     ]
    },
    {
     "name": "stderr",
     "output_type": "stream",
     "text": [
      "\n"
     ]
    },
    {
     "name": "stdout",
     "output_type": "stream",
     "text": [
      "Voxelization\n",
      "Number of entries: 1172, voxel_size: 1\n",
      "Expected size of generated files: 3.0 Gb\n"
     ]
    },
    {
     "name": "stderr",
     "output_type": "stream",
     "text": [
      "100%|██████████| 1172/1172 [00:00<00:00, 103698.51it/s]"
     ]
    },
    {
     "name": "stdout",
     "output_type": "stream",
     "text": [
      "True size of generated files: 0 b\n",
      "Entries skipped as existing: 1172\n"
     ]
    },
    {
     "name": "stderr",
     "output_type": "stream",
     "text": [
      "\n"
     ]
    },
    {
     "name": "stdout",
     "output_type": "stream",
     "text": [
      "Voxelization\n",
      "Number of entries: 1172, voxel_size: 2\n",
      "Expected size of generated files: 440.0 Mb\n"
     ]
    },
    {
     "name": "stderr",
     "output_type": "stream",
     "text": [
      "100%|██████████| 1172/1172 [00:00<00:00, 99532.77it/s]"
     ]
    },
    {
     "name": "stdout",
     "output_type": "stream",
     "text": [
      "True size of generated files: 0 b\n",
      "Entries skipped as existing: 1172\n"
     ]
    },
    {
     "name": "stderr",
     "output_type": "stream",
     "text": [
      "\n"
     ]
    }
   ],
   "source": [
    "folds = sorted(os.listdir(FOLDS_DIR))\n",
    "for fold in folds:\n",
    "    main_entries = pd.read_csv(os.path.join(FOLDS_DIR, fold))['Main'].to_list()\n",
    "\n",
    "    print(f'\\nFold: {fold}\\n')\n",
    "    precompute_voxel_grids(list_of_entries=main_entries,\n",
    "                        database_path = MAIN_CSV,\n",
    "                        atoms_dir = ATOMS_DIR,\n",
    "                        voxels_dir = VOXELS_DIR,\n",
    "                        voxel_size = 1,\n",
    "                        exist_ok = True)\n",
    "    precompute_voxel_grids(list_of_entries=main_entries,\n",
    "                        database_path = MAIN_CSV,\n",
    "                        atoms_dir = ATOMS_DIR,\n",
    "                        voxels_dir = VOXELS_DIR,\n",
    "                        voxel_size = 2,\n",
    "                        exist_ok = True)"
   ]
  },
  {
   "cell_type": "markdown",
   "metadata": {},
   "source": [
    "# Pilot run for hyperparameters search\n",
    "\n",
    "Now, when all entries are stored as voxel grids with 8 channels, we can try a pilot run to find the appropriate hyperparameters\n",
    "\n",
    "Notes:\n",
    "- Due to computational infeasiblity of the project, I have decided to do a 5-fold CV, so folds will be merged pair-wise\n",
    "- Pilot run only checks one fold (namely: fold 0 + fold 1 as test set)\n",
    "- The number of hyperparameters checked is not large, but even with reductions of samples x2, the computation was barely possible on my device\n",
    "- The patience for early stopping is set to 5.\n",
    "- Will be checked:\n",
    "    - dropouts 0, 0.1 and 0.25\n",
    "    - batch sizes: 128 and 256\n",
    "    - channels: 1 and 2 (it means that the actual number of channels will be x1 or x2, the exact model architecture can be found below)\n",
    "\n",
    "All the runs will be sored to the PILOT_DIR\n",
    "\n",
    "    IMPORTANT: the total computation time on my device (12-core CPU) was more than 35 hours."
   ]
  },
  {
   "cell_type": "markdown",
   "metadata": {},
   "source": [
    "### Model:\n",
    "\n",
    "- Model architecture is based on DeepSite model. But provided that I use less training samples, I expect that the best hyperparameters might be different from though mentioned in DeepSite. "
   ]
  },
  {
   "cell_type": "code",
   "execution_count": 4,
   "metadata": {},
   "outputs": [],
   "source": [
    "class FlexibleCNN3D(torch.nn.Module):\n",
    "\n",
    "    def __init__(self, dropout: float = 0.25, channel_size: int | float = 2):\n",
    "        \"\"\"\n",
    "        This Model will only be used for hyperparameter search during the pilot run\n",
    "\n",
    "        Dropout will be used as it is after convolution layers and with a factor of 2 between dense layers.\n",
    "\n",
    "        Channel size will be used with a factor of 16.\n",
    "\n",
    "        Args:\n",
    "            dropout (float, optional): dropout. Defaults to 0.25.\n",
    "            channel_size (int | float, optional): relative channel size. Defaults to 2.\n",
    "        \"\"\"\n",
    "\n",
    "        # Check the input\n",
    "        assert isinstance(dropout, float | int), f'dropout must be float or int, not {type(dropout)}'\n",
    "        assert 0 <= dropout, f'dropout must be at least 0, not {dropout}'\n",
    "        assert isinstance(channel_size, float | int), f'channel_size must be int or float, not {type(channel_size)}'\n",
    "        assert 0 < channel_size, f'channel_size must be positive, not {channel_size}'\n",
    "        \n",
    "        super().__init__()\n",
    "\n",
    "        # Store parameters\n",
    "        self.dropout = dropout\n",
    "        self.channel_size = channel_size\n",
    "\n",
    "\n",
    "        self.model = torch.nn.Sequential(\n",
    "            torch.nn.Conv3d(8, int(16 * channel_size), kernel_size=8, padding='same'),\n",
    "            torch.nn.ELU(),\n",
    "            torch.nn.Conv3d(int(16 * channel_size), int(16 * (channel_size + 1)), kernel_size=4, padding='same'),\n",
    "            torch.nn.ELU(),\n",
    "            torch.nn.MaxPool3d(2),\n",
    "            torch.nn.Dropout3d(dropout),\n",
    "            torch.nn.Conv3d(int(16 * (channel_size + 1)), int(16 * (channel_size + 2)), kernel_size=4, padding='same'),\n",
    "            torch.nn.ELU(),\n",
    "            torch.nn.Conv3d(int(16 * (channel_size + 2)), int(16 * (channel_size + 3)), kernel_size=4, padding='same'),\n",
    "            torch.nn.ELU(),\n",
    "            torch.nn.MaxPool3d(2),\n",
    "            torch.nn.Dropout3d(dropout),\n",
    "            torch.nn.Flatten(),\n",
    "            torch.nn.Linear(int(64 * 16 * (channel_size + 3)), 128),\n",
    "            torch.nn.ELU(),\n",
    "            torch.nn.Dropout(dropout * 2),\n",
    "            torch.nn.Linear(128, 1)\n",
    "        )\n",
    "\n",
    "    def forward(self, x):\n",
    "        return self.model(x)"
   ]
  },
  {
   "cell_type": "code",
   "execution_count": 5,
   "metadata": {},
   "outputs": [
    {
     "name": "stdout",
     "output_type": "stream",
     "text": [
      "Model with channel size x1 has 917921 parameters\n",
      "Model with channel size x2 has 1409505 parameters\n"
     ]
    }
   ],
   "source": [
    "example_model_1 = FlexibleCNN3D(channel_size=1)\n",
    "print(f'Model with channel size x1 has {sum(p.numel() for p in example_model_1.parameters() if p.requires_grad)} parameters')\n",
    "example_model_2 = FlexibleCNN3D(channel_size=2)\n",
    "print(f'Model with channel size x2 has {sum(p.numel() for p in example_model_2.parameters() if p.requires_grad)} parameters')"
   ]
  },
  {
   "cell_type": "markdown",
   "metadata": {},
   "source": [
    "It might seem that the number of parameters is low, but apparently 3D convolution is not supported by accelation algorithms on my CPU, which takes loads of time."
   ]
  },
  {
   "cell_type": "markdown",
   "metadata": {},
   "source": [
    "### Search:"
   ]
  },
  {
   "cell_type": "code",
   "execution_count": 6,
   "metadata": {},
   "outputs": [
    {
     "name": "stdout",
     "output_type": "stream",
     "text": [
      "Run: Batch Size: 128; Dropout: 0; Channel Size: 1 is already present.\n",
      "Run: Batch Size: 128; Dropout: 0; Channel Size: 2 is already present.\n",
      "Run: Batch Size: 128; Dropout: 0.1; Channel Size: 1 is already present.\n",
      "Run: Batch Size: 128; Dropout: 0.1; Channel Size: 2 is already present.\n",
      "Run: Batch Size: 128; Dropout: 0.25; Channel Size: 1 is already present.\n",
      "Run: Batch Size: 128; Dropout: 0.25; Channel Size: 2 is already present.\n",
      "Run: Batch Size: 256; Dropout: 0; Channel Size: 1 is already present.\n",
      "Run: Batch Size: 256; Dropout: 0; Channel Size: 2 is already present.\n",
      "Run: Batch Size: 256; Dropout: 0.1; Channel Size: 1 is already present.\n",
      "Run: Batch Size: 256; Dropout: 0.1; Channel Size: 2 is already present.\n",
      "Run: Batch Size: 256; Dropout: 0.25; Channel Size: 1 is already present.\n",
      "Run: Batch Size: 256; Dropout: 0.25; Channel Size: 2 is already present.\n"
     ]
    }
   ],
   "source": [
    "hyperparameter_search(train_folds=[0, 1, 2, 3, 4, 5, 6, 7],\n",
    "                      test_folds=[8, 9],\n",
    "                      batch_sizes=[128, 256],\n",
    "                      dropouts=[0, 0.1, 0.25],\n",
    "                      channels=[1, 2],\n",
    "                      exist_ok=True,\n",
    "                      max_epochs=100,\n",
    "                      patience=5,\n",
    "                      reduction_factor=2,\n",
    "                      voxel_size=1,\n",
    "                      folds_dir=FOLDS_DIR,\n",
    "                      voxels_dir=VOXELS_DIR,\n",
    "                      pilot_dir=PILOT_DIR)"
   ]
  },
  {
   "cell_type": "markdown",
   "metadata": {},
   "source": [
    "### Analysis:\n",
    "\n",
    "Every subplot shows the trainig and evaluation process of 1 combination of HP mentioned in the title.\n",
    "\n",
    "Dashed lines indicate the epoch with lowest test loss and the best test loss itself.\n",
    "\n",
    "The red cross of dashed lines is used for the overall best combination of HP.\n",
    "\n",
    "According to the plots, the best found combination is:\n",
    "- Batch Size = 128\n",
    "- DropOut = 0\n",
    "- Channels = 32\n",
    "\n",
    "Which is somewhat expected. DeepSite used 256 batch and 0.25 dropout, but it also used around twice as much samples. The number of channels seems to be independent from the number of \n",
    "\n",
    "Thus, for the real cross-validation runs I will use 128 batches, 0 dropout and 32+ channels. The best epoch for the chosen combination of HPs was 8, but to account for possible variation in folds, I will set epochs to 12 with patience 3 for early stopping."
   ]
  },
  {
   "cell_type": "code",
   "execution_count": 7,
   "metadata": {},
   "outputs": [
    {
     "data": {
      "image/png": "[encoded data removed]",
      "text/plain": [
       "<Figure size 1200x1200 with 12 Axes>"
      ]
     },
     "metadata": {},
     "output_type": "display_data"
    },
    {
     "data": {
      "text/html": [
       "<div>\n",
       "<style scoped>\n",
       "    .dataframe tbody tr th:only-of-type {\n",
       "        vertical-align: middle;\n",
       "    }\n",
       "\n",
       "    .dataframe tbody tr th {\n",
       "        vertical-align: top;\n",
       "    }\n",
       "\n",
       "    .dataframe thead th {\n",
       "        text-align: right;\n",
       "    }\n",
       "</style>\n",
       "<table border=\"1\" class=\"dataframe\">\n",
       "  <thead>\n",
       "    <tr style=\"text-align: right;\">\n",
       "      <th></th>\n",
       "      <th>batch_size</th>\n",
       "      <th>dropout</th>\n",
       "      <th>channels</th>\n",
       "      <th>train_losses</th>\n",
       "      <th>test_losses</th>\n",
       "      <th>true_labels</th>\n",
       "      <th>predictions</th>\n",
       "      <th>total_epochs</th>\n",
       "      <th>best_test_loss</th>\n",
       "      <th>best_train_loss</th>\n",
       "      <th>best_epoch</th>\n",
       "      <th>best_epoch_auc</th>\n",
       "    </tr>\n",
       "  </thead>\n",
       "  <tbody>\n",
       "    <tr>\n",
       "      <th>0</th>\n",
       "      <td>128</td>\n",
       "      <td>0.10</td>\n",
       "      <td>1</td>\n",
       "      <td>[0.5622382713132676, 0.22066364110309297, 0.15...</td>\n",
       "      <td>[0.26974280193256134, 0.16040688868533431, 0.1...</td>\n",
       "      <td>[[1, 1, 1, 0, 0, 0, 1, 1, 0, 0, 1, 1, 0, 1, 1,...</td>\n",
       "      <td>[[0.888653101530062, 0.805977908301827, 0.9584...</td>\n",
       "      <td>14</td>\n",
       "      <td>0.071214</td>\n",
       "      <td>0.064326</td>\n",
       "      <td>9</td>\n",
       "      <td>0.995983</td>\n",
       "    </tr>\n",
       "    <tr>\n",
       "      <th>1</th>\n",
       "      <td>128</td>\n",
       "      <td>0.10</td>\n",
       "      <td>2</td>\n",
       "      <td>[0.506701169927638, 0.27542032508065384, 0.204...</td>\n",
       "      <td>[0.3323639743873958, 0.21220924436944252, 0.16...</td>\n",
       "      <td>[[1, 1, 1, 0, 0, 0, 1, 1, 0, 0, 1, 1, 0, 1, 1,...</td>\n",
       "      <td>[[0.6608690359213301, 0.7156319570363924, 0.92...</td>\n",
       "      <td>20</td>\n",
       "      <td>0.083902</td>\n",
       "      <td>0.053291</td>\n",
       "      <td>15</td>\n",
       "      <td>0.995250</td>\n",
       "    </tr>\n",
       "    <tr>\n",
       "      <th>2</th>\n",
       "      <td>128</td>\n",
       "      <td>0.25</td>\n",
       "      <td>1</td>\n",
       "      <td>[0.4278844538608008, 0.2291061994654912, 0.151...</td>\n",
       "      <td>[0.2678984843465401, 0.15184184574347567, 0.12...</td>\n",
       "      <td>[[1, 1, 1, 0, 0, 0, 1, 1, 0, 0, 1, 1, 0, 1, 1,...</td>\n",
       "      <td>[[0.8773212018779462, 0.8333733350082466, 0.95...</td>\n",
       "      <td>15</td>\n",
       "      <td>0.077036</td>\n",
       "      <td>0.058147</td>\n",
       "      <td>10</td>\n",
       "      <td>0.994916</td>\n",
       "    </tr>\n",
       "    <tr>\n",
       "      <th>3</th>\n",
       "      <td>128</td>\n",
       "      <td>0.25</td>\n",
       "      <td>2</td>\n",
       "      <td>[0.585531515544303, 0.3023737651946022, 0.2705...</td>\n",
       "      <td>[0.3538261674310399, 0.2806967664329046, 0.258...</td>\n",
       "      <td>[[1, 1, 1, 0, 0, 0, 1, 1, 0, 0, 1, 1, 0, 1, 1,...</td>\n",
       "      <td>[[0.737238072215556, 0.6931314920968418, 0.858...</td>\n",
       "      <td>21</td>\n",
       "      <td>0.087774</td>\n",
       "      <td>0.058708</td>\n",
       "      <td>16</td>\n",
       "      <td>0.994130</td>\n",
       "    </tr>\n",
       "    <tr>\n",
       "      <th>4</th>\n",
       "      <td>128</td>\n",
       "      <td>0.00</td>\n",
       "      <td>1</td>\n",
       "      <td>[0.4857345810137684, 0.2534558876182505, 0.191...</td>\n",
       "      <td>[0.28458280656487994, 0.21202515942758718, 0.1...</td>\n",
       "      <td>[[1, 1, 1, 0, 0, 0, 1, 1, 0, 0, 1, 1, 0, 1, 1,...</td>\n",
       "      <td>[[0.8954707573816065, 0.8857487132814522, 0.91...</td>\n",
       "      <td>19</td>\n",
       "      <td>0.076148</td>\n",
       "      <td>0.046373</td>\n",
       "      <td>14</td>\n",
       "      <td>0.995914</td>\n",
       "    </tr>\n",
       "    <tr>\n",
       "      <th>5</th>\n",
       "      <td>128</td>\n",
       "      <td>0.00</td>\n",
       "      <td>2</td>\n",
       "      <td>[0.64125026626504, 0.3132948173141495, 0.23301...</td>\n",
       "      <td>[0.41363141082824884, 0.32466151453249875, 0.2...</td>\n",
       "      <td>[[1, 1, 1, 0, 0, 0, 1, 1, 0, 0, 1, 1, 0, 1, 1,...</td>\n",
       "      <td>[[0.7486355957514529, 0.7079225434727243, 0.73...</td>\n",
       "      <td>13</td>\n",
       "      <td>0.067358</td>\n",
       "      <td>0.061961</td>\n",
       "      <td>8</td>\n",
       "      <td>0.996790</td>\n",
       "    </tr>\n",
       "    <tr>\n",
       "      <th>6</th>\n",
       "      <td>256</td>\n",
       "      <td>0.10</td>\n",
       "      <td>1</td>\n",
       "      <td>[0.5277345183489699, 0.2958768899100061, 0.234...</td>\n",
       "      <td>[0.39295483185723096, 0.2451721186342314, 0.21...</td>\n",
       "      <td>[[1, 1, 1, 0, 0, 0, 1, 1, 0, 0, 1, 1, 0, 1, 1,...</td>\n",
       "      <td>[[0.7786435179012353, 0.7469303323107285, 0.73...</td>\n",
       "      <td>18</td>\n",
       "      <td>0.083671</td>\n",
       "      <td>0.060523</td>\n",
       "      <td>13</td>\n",
       "      <td>0.994471</td>\n",
       "    </tr>\n",
       "    <tr>\n",
       "      <th>7</th>\n",
       "      <td>256</td>\n",
       "      <td>0.10</td>\n",
       "      <td>2</td>\n",
       "      <td>[0.7728583565323315, 0.3451633049270937, 0.281...</td>\n",
       "      <td>[0.4150879638133653, 0.3013931388294969, 0.260...</td>\n",
       "      <td>[[1, 1, 1, 0, 0, 0, 1, 1, 0, 0, 1, 1, 0, 1, 1,...</td>\n",
       "      <td>[[0.8896975606902039, 0.7100205002023837, 0.93...</td>\n",
       "      <td>19</td>\n",
       "      <td>0.091424</td>\n",
       "      <td>0.079953</td>\n",
       "      <td>14</td>\n",
       "      <td>0.994323</td>\n",
       "    </tr>\n",
       "    <tr>\n",
       "      <th>8</th>\n",
       "      <td>256</td>\n",
       "      <td>0.25</td>\n",
       "      <td>1</td>\n",
       "      <td>[0.5453228301008154, 0.27839318316802586, 0.23...</td>\n",
       "      <td>[0.33624749921958474, 0.24480028391562503, 0.1...</td>\n",
       "      <td>[[1, 1, 1, 0, 0, 0, 1, 1, 0, 0, 1, 1, 0, 1, 1,...</td>\n",
       "      <td>[[0.7351722673614082, 0.8389222687974144, 0.93...</td>\n",
       "      <td>19</td>\n",
       "      <td>0.077011</td>\n",
       "      <td>0.060373</td>\n",
       "      <td>14</td>\n",
       "      <td>0.994778</td>\n",
       "    </tr>\n",
       "    <tr>\n",
       "      <th>9</th>\n",
       "      <td>256</td>\n",
       "      <td>0.25</td>\n",
       "      <td>2</td>\n",
       "      <td>[0.7382242568780306, 0.3669621337831468, 0.289...</td>\n",
       "      <td>[0.4243773657928302, 0.3081864332645263, 0.259...</td>\n",
       "      <td>[[1, 1, 1, 0, 0, 0, 1, 1, 0, 0, 1, 1, 0, 1, 1,...</td>\n",
       "      <td>[[0.5706448190933964, 0.5422954205866628, 0.54...</td>\n",
       "      <td>18</td>\n",
       "      <td>0.091536</td>\n",
       "      <td>0.078280</td>\n",
       "      <td>13</td>\n",
       "      <td>0.994226</td>\n",
       "    </tr>\n",
       "    <tr>\n",
       "      <th>10</th>\n",
       "      <td>256</td>\n",
       "      <td>0.00</td>\n",
       "      <td>1</td>\n",
       "      <td>[0.6043555520992073, 0.26894414694079705, 0.20...</td>\n",
       "      <td>[0.3001440019794252, 0.23115099277542225, 0.15...</td>\n",
       "      <td>[[1, 1, 1, 0, 0, 0, 1, 1, 0, 0, 1, 1, 0, 1, 1,...</td>\n",
       "      <td>[[0.8502040366480603, 0.8458763519140844, 0.85...</td>\n",
       "      <td>15</td>\n",
       "      <td>0.067390</td>\n",
       "      <td>0.056945</td>\n",
       "      <td>10</td>\n",
       "      <td>0.996709</td>\n",
       "    </tr>\n",
       "    <tr>\n",
       "      <th>11</th>\n",
       "      <td>256</td>\n",
       "      <td>0.00</td>\n",
       "      <td>2</td>\n",
       "      <td>[0.5568687567700157, 0.5586412542065494, 0.355...</td>\n",
       "      <td>[0.7217175939859514, 0.4148220387444285, 0.311...</td>\n",
       "      <td>[[1, 1, 1, 0, 0, 0, 1, 1, 0, 0, 1, 1, 0, 1, 1,...</td>\n",
       "      <td>[[0.993085004744062, 0.9881386834958099, 0.995...</td>\n",
       "      <td>21</td>\n",
       "      <td>0.074585</td>\n",
       "      <td>0.059955</td>\n",
       "      <td>16</td>\n",
       "      <td>0.994856</td>\n",
       "    </tr>\n",
       "  </tbody>\n",
       "</table>\n",
       "</div>"
      ],
      "text/plain": [
       "    batch_size  dropout  channels  \\\n",
       "0          128     0.10         1   \n",
       "1          128     0.10         2   \n",
       "2          128     0.25         1   \n",
       "3          128     0.25         2   \n",
       "4          128     0.00         1   \n",
       "5          128     0.00         2   \n",
       "6          256     0.10         1   \n",
       "7          256     0.10         2   \n",
       "8          256     0.25         1   \n",
       "9          256     0.25         2   \n",
       "10         256     0.00         1   \n",
       "11         256     0.00         2   \n",
       "\n",
       "                                         train_losses  \\\n",
       "0   [0.5622382713132676, 0.22066364110309297, 0.15...   \n",
       "1   [0.506701169927638, 0.27542032508065384, 0.204...   \n",
       "2   [0.4278844538608008, 0.2291061994654912, 0.151...   \n",
       "3   [0.585531515544303, 0.3023737651946022, 0.2705...   \n",
       "4   [0.4857345810137684, 0.2534558876182505, 0.191...   \n",
       "5   [0.64125026626504, 0.3132948173141495, 0.23301...   \n",
       "6   [0.5277345183489699, 0.2958768899100061, 0.234...   \n",
       "7   [0.7728583565323315, 0.3451633049270937, 0.281...   \n",
       "8   [0.5453228301008154, 0.27839318316802586, 0.23...   \n",
       "9   [0.7382242568780306, 0.3669621337831468, 0.289...   \n",
       "10  [0.6043555520992073, 0.26894414694079705, 0.20...   \n",
       "11  [0.5568687567700157, 0.5586412542065494, 0.355...   \n",
       "\n",
       "                                          test_losses  \\\n",
       "0   [0.26974280193256134, 0.16040688868533431, 0.1...   \n",
       "1   [0.3323639743873958, 0.21220924436944252, 0.16...   \n",
       "2   [0.2678984843465401, 0.15184184574347567, 0.12...   \n",
       "3   [0.3538261674310399, 0.2806967664329046, 0.258...   \n",
       "4   [0.28458280656487994, 0.21202515942758718, 0.1...   \n",
       "5   [0.41363141082824884, 0.32466151453249875, 0.2...   \n",
       "6   [0.39295483185723096, 0.2451721186342314, 0.21...   \n",
       "7   [0.4150879638133653, 0.3013931388294969, 0.260...   \n",
       "8   [0.33624749921958474, 0.24480028391562503, 0.1...   \n",
       "9   [0.4243773657928302, 0.3081864332645263, 0.259...   \n",
       "10  [0.3001440019794252, 0.23115099277542225, 0.15...   \n",
       "11  [0.7217175939859514, 0.4148220387444285, 0.311...   \n",
       "\n",
       "                                          true_labels  \\\n",
       "0   [[1, 1, 1, 0, 0, 0, 1, 1, 0, 0, 1, 1, 0, 1, 1,...   \n",
       "1   [[1, 1, 1, 0, 0, 0, 1, 1, 0, 0, 1, 1, 0, 1, 1,...   \n",
       "2   [[1, 1, 1, 0, 0, 0, 1, 1, 0, 0, 1, 1, 0, 1, 1,...   \n",
       "3   [[1, 1, 1, 0, 0, 0, 1, 1, 0, 0, 1, 1, 0, 1, 1,...   \n",
       "4   [[1, 1, 1, 0, 0, 0, 1, 1, 0, 0, 1, 1, 0, 1, 1,...   \n",
       "5   [[1, 1, 1, 0, 0, 0, 1, 1, 0, 0, 1, 1, 0, 1, 1,...   \n",
       "6   [[1, 1, 1, 0, 0, 0, 1, 1, 0, 0, 1, 1, 0, 1, 1,...   \n",
       "7   [[1, 1, 1, 0, 0, 0, 1, 1, 0, 0, 1, 1, 0, 1, 1,...   \n",
       "8   [[1, 1, 1, 0, 0, 0, 1, 1, 0, 0, 1, 1, 0, 1, 1,...   \n",
       "9   [[1, 1, 1, 0, 0, 0, 1, 1, 0, 0, 1, 1, 0, 1, 1,...   \n",
       "10  [[1, 1, 1, 0, 0, 0, 1, 1, 0, 0, 1, 1, 0, 1, 1,...   \n",
       "11  [[1, 1, 1, 0, 0, 0, 1, 1, 0, 0, 1, 1, 0, 1, 1,...   \n",
       "\n",
       "                                          predictions  total_epochs  \\\n",
       "0   [[0.888653101530062, 0.805977908301827, 0.9584...            14   \n",
       "1   [[0.6608690359213301, 0.7156319570363924, 0.92...            20   \n",
       "2   [[0.8773212018779462, 0.8333733350082466, 0.95...            15   \n",
       "3   [[0.737238072215556, 0.6931314920968418, 0.858...            21   \n",
       "4   [[0.8954707573816065, 0.8857487132814522, 0.91...            19   \n",
       "5   [[0.7486355957514529, 0.7079225434727243, 0.73...            13   \n",
       "6   [[0.7786435179012353, 0.7469303323107285, 0.73...            18   \n",
       "7   [[0.8896975606902039, 0.7100205002023837, 0.93...            19   \n",
       "8   [[0.7351722673614082, 0.8389222687974144, 0.93...            19   \n",
       "9   [[0.5706448190933964, 0.5422954205866628, 0.54...            18   \n",
       "10  [[0.8502040366480603, 0.8458763519140844, 0.85...            15   \n",
       "11  [[0.993085004744062, 0.9881386834958099, 0.995...            21   \n",
       "\n",
       "    best_test_loss  best_train_loss  best_epoch  best_epoch_auc  \n",
       "0         0.071214         0.064326           9        0.995983  \n",
       "1         0.083902         0.053291          15        0.995250  \n",
       "2         0.077036         0.058147          10        0.994916  \n",
       "3         0.087774         0.058708          16        0.994130  \n",
       "4         0.076148         0.046373          14        0.995914  \n",
       "5         0.067358         0.061961           8        0.996790  \n",
       "6         0.083671         0.060523          13        0.994471  \n",
       "7         0.091424         0.079953          14        0.994323  \n",
       "8         0.077011         0.060373          14        0.994778  \n",
       "9         0.091536         0.078280          13        0.994226  \n",
       "10        0.067390         0.056945          10        0.996709  \n",
       "11        0.074585         0.059955          16        0.994856  "
      ]
     },
     "execution_count": 7,
     "metadata": {},
     "output_type": "execute_result"
    }
   ],
   "source": [
    "analyse_hyperparameters(PILOT_DIR)"
   ]
  }
 ],
 "metadata": {
  "kernelspec": {
   "display_name": "base",
   "language": "python",
   "name": "python3"
  },
  "language_info": {
   "codemirror_mode": {
    "name": "ipython",
    "version": 3
   },
   "file_extension": ".py",
   "mimetype": "text/x-python",
   "name": "python",
   "nbconvert_exporter": "python",
   "pygments_lexer": "ipython3",
   "version": "3.12.2"
  }
 },
 "nbformat": 4,
 "nbformat_minor": 2
}
